{
  "nbformat": 4,
  "nbformat_minor": 0,
  "metadata": {
    "colab": {
      "name": "Bar charts and Histograms.ipynb",
      "version": "0.3.2",
      "provenance": [],
      "include_colab_link": true
    },
    "kernelspec": {
      "name": "python3",
      "display_name": "Python 3"
    }
  },
  "cells": [
    {
      "cell_type": "markdown",
      "metadata": {
        "id": "view-in-github",
        "colab_type": "text"
      },
      "source": [
        "<a href=\"https://colab.research.google.com/github/alifele/Matplotlib/blob/master/Bar_charts_and_Histograms.ipynb\" target=\"_parent\"><img src=\"https://colab.research.google.com/assets/colab-badge.svg\" alt=\"Open In Colab\"/></a>"
      ]
    },
    {
      "cell_type": "markdown",
      "metadata": {
        "id": "O_kVn-BNS1U2",
        "colab_type": "text"
      },
      "source": [
        "#Bar charts and Histograms"
      ]
    },
    {
      "cell_type": "code",
      "metadata": {
        "id": "IRsIZmgaSP60",
        "colab_type": "code",
        "colab": {
          "base_uri": "https://localhost:8080/",
          "height": 327
        },
        "outputId": "2c2d1d06-eec3-4c2c-aba4-8de81d8d1745"
      },
      "source": [
        "import matplotlib.pyplot as plt\n",
        "\n",
        "x = [2,4,6,8,10]\n",
        "y = [3,4,1,3,2]\n",
        "\n",
        "x2 = [1,3,5,7,9]\n",
        "y2 = [2,3,4,2,1]\n",
        "\n",
        "plt.bar(x, y, label = 'Bars', color = 'red') # even you can use the name of color\n",
        "plt.bar(x2,y2, label = 'Bars2', color='#122235') # You can use hex color \n",
        "\n",
        "plt.xlabel('x')\n",
        "plt.ylabel('y')\n",
        "plt.legend()\n",
        "plt.title('Interesting Graph\\nCheck it out')"
      ],
      "execution_count": 12,
      "outputs": [
        {
          "output_type": "execute_result",
          "data": {
            "text/plain": [
              "Text(0.5, 1.0, 'Interesting Graph\\nCheck it out')"
            ]
          },
          "metadata": {
            "tags": []
          },
          "execution_count": 12
        },
        {
          "output_type": "display_data",
          "data": {
            "image/png": "[encoded data removed]",
            "text/plain": [
              "<Figure size 432x288 with 1 Axes>"
            ]
          },
          "metadata": {
            "tags": []
          }
        }
      ]
    },
    {
      "cell_type": "markdown",
      "metadata": {
        "id": "bBmVp2CyT2pk",
        "colab_type": "text"
      },
      "source": [
        "#Histograms"
      ]
    },
    {
      "cell_type": "code",
      "metadata": {
        "id": "I8G1KzftT50f",
        "colab_type": "code",
        "colab": {
          "base_uri": "https://localhost:8080/",
          "height": 547
        },
        "outputId": "8b8c24bd-6945-4aba-d9e7-599a6f909b5a"
      },
      "source": [
        "population_ages = [22,55,62,45,21,22,34,42,42,4,99,102,110,120,121,130,111,34,32,33,53,66,45,12,43,45]\n",
        "\n",
        "ids = [x for x in range(len(population_ages))]\n",
        "\n",
        "\n",
        "plt.bar(ids,population_ages , label = 'population_ages', color ='#a428f7')\n",
        "plt.xlabel('x')\n",
        "plt.ylabel('y')\n",
        "plt.legend()\n",
        "plt.show()\n",
        "\n",
        "\n",
        "bins = [0,20,40,60,80,100,120,140]\n",
        "plt.hist(population_ages, bins, histtype='bar', rwidth=0.7 ,label = 'age histogram', color='#123456')\n",
        "plt.xlabel('x')\n",
        "plt.ylabel('y')\n",
        "plt.legend()\n",
        "plt.show()"
      ],
      "execution_count": 29,
      "outputs": [
        {
          "output_type": "display_data",
          "data": {
            "image/png": "[encoded data removed]",
            "text/plain": [
              "<Figure size 432x288 with 1 Axes>"
            ]
          },
          "metadata": {
            "tags": []
          }
        },
        {
          "output_type": "display_data",
          "data": {
            "image/png": "[encoded data removed]",
            "text/plain": [
              "<Figure size 432x288 with 1 Axes>"
            ]
          },
          "metadata": {
            "tags": []
          }
        }
      ]
    },
    {
      "cell_type": "code",
      "metadata": {
        "id": "l8aveDrMV1oW",
        "colab_type": "code",
        "colab": {}
      },
      "source": [
        ""
      ],
      "execution_count": 0,
      "outputs": []
    }
  ]
}
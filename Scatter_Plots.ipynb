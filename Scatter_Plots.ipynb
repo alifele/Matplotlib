{
  "nbformat": 4,
  "nbformat_minor": 0,
  "metadata": {
    "colab": {
      "name": "Scatter Plots.ipynb",
      "version": "0.3.2",
      "provenance": [],
      "include_colab_link": true
    },
    "kernelspec": {
      "name": "python3",
      "display_name": "Python 3"
    }
  },
  "cells": [
    {
      "cell_type": "markdown",
      "metadata": {
        "id": "view-in-github",
        "colab_type": "text"
      },
      "source": [
        "<a href=\"https://colab.research.google.com/github/alifele/Matplotlib/blob/master/Scatter_Plots.ipynb\" target=\"_parent\"><img src=\"https://colab.research.google.com/assets/colab-badge.svg\" alt=\"Open In Colab\"/></a>"
      ]
    },
    {
      "cell_type": "markdown",
      "metadata": {
        "id": "O_kVn-BNS1U2",
        "colab_type": "text"
      },
      "source": [
        "#Bar charts and Histograms"
      ]
    },
    {
      "cell_type": "code",
      "metadata": {
        "id": "IRsIZmgaSP60",
        "colab_type": "code",
        "colab": {
          "base_uri": "https://localhost:8080/",
          "height": 327
        },
        "outputId": "0e090e31-67f8-413f-f637-569c3a26f922"
      },
      "source": [
        "import matplotlib.pyplot as plt\n",
        "\n",
        "x = [1,2,3,4,5,6,7,8]\n",
        "y = [3,4,3,5,6,5,4,3]\n",
        "y2= [5,6,4,3,2,1,2,3]\n",
        "\n",
        "\n",
        "plt.scatter(x, y, label='skitscat', color='k', marker = '$E$', s=90)\n",
        "plt.scatter(x,y2, label='skitscat', color='#00aa00', marker = (5,2,30), s=90)\n",
        "plt.xlabel('x')\n",
        "plt.ylabel('y')\n",
        "plt.legend()\n",
        "plt.title('Interesting Graph\\nCheck it out')"
      ],
      "execution_count": 65,
      "outputs": [
        {
          "output_type": "execute_result",
          "data": {
            "text/plain": [
              "Text(0.5, 1.0, 'Interesting Graph\\nCheck it out')"
            ]
          },
          "metadata": {
            "tags": []
          },
          "execution_count": 65
        },
        {
          "output_type": "display_data",
          "data": {
            "image/png": "[encoded data removed]",
            "text/plain": [
              "<Figure size 432x288 with 1 Axes>"
            ]
          },
          "metadata": {
            "tags": []
          }
        }
      ]
    },
    {
      "cell_type": "markdown",
      "metadata": {
        "id": "bBmVp2CyT2pk",
        "colab_type": "text"
      },
      "source": [
        "for more options just search it on google\n",
        "\n",
        "For example : matplotlib marker options"
      ]
    },
    {
      "cell_type": "code",
      "metadata": {
        "id": "I8G1KzftT50f",
        "colab_type": "code",
        "colab": {
          "base_uri": "https://localhost:8080/",
          "height": 547
        },
        "outputId": "8b8c24bd-6945-4aba-d9e7-599a6f909b5a"
      },
      "source": [
        "population_ages = [22,55,62,45,21,22,34,42,42,4,99,102,110,120,121,130,111,34,32,33,53,66,45,12,43,45]\n",
        "\n",
        "ids = [x for x in range(len(population_ages))]\n",
        "\n",
        "\n",
        "plt.bar(ids,population_ages , label = 'population_ages', color ='#a428f7')\n",
        "plt.xlabel('x')\n",
        "plt.ylabel('y')\n",
        "plt.legend()\n",
        "plt.show()\n",
        "\n",
        "\n",
        "bins = [0,20,40,60,80,100,120,140]\n",
        "plt.hist(population_ages, bins, histtype='bar', rwidth=0.7 ,label = 'age histogram', color='#123456')\n",
        "plt.xlabel('x')\n",
        "plt.ylabel('y')\n",
        "plt.legend()\n",
        "plt.show()"
      ],
      "execution_count": 29,
      "outputs": [
        {
          "output_type": "display_data",
          "data": {
            "image/png": "[encoded data removed]",
            "text/plain": [
              "<Figure size 432x288 with 1 Axes>"
            ]
          },
          "metadata": {
            "tags": []
          }
        },
        {
          "output_type": "display_data",
          "data": {
            "image/png": "[encoded data removed]",
            "text/plain": [
              "<Figure size 432x288 with 1 Axes>"
            ]
          },
          "metadata": {
            "tags": []
          }
        }
      ]
    },
    {
      "cell_type": "code",
      "metadata": {
        "id": "l8aveDrMV1oW",
        "colab_type": "code",
        "colab": {}
      },
      "source": [
        ""
      ],
      "execution_count": 0,
      "outputs": []
    }
  ]
}